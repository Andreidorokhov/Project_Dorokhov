{
 "cells": [
  {
   "cell_type": "code",
   "execution_count": 2,
   "metadata": {
    "collapsed": false
   },
   "outputs": [],
   "source": [
    "import pandas as pd\n",
    "import numpy as np\n",
    "import scipy as sp\n",
    "%matplotlib inline\n",
    "import matplotlib.pyplot as plt"
   ]
  },
  {
   "cell_type": "code",
   "execution_count": 3,
   "metadata": {
    "collapsed": false
   },
   "outputs": [],
   "source": [
    "df=pd.DataFrame(pd.read_csv('kuiper.csv', sep=';'))"
   ]
  },
  {
   "cell_type": "code",
   "execution_count": 4,
   "metadata": {
    "collapsed": false
   },
   "outputs": [
    {
     "data": {
      "text/html": [
       "<div>\n",
       "<table border=\"1\" class=\"dataframe\">\n",
       "  <thead>\n",
       "    <tr style=\"text-align: right;\">\n",
       "      <th></th>\n",
       "      <th>Price</th>\n",
       "      <th>Mileage</th>\n",
       "      <th>Make</th>\n",
       "      <th>Model</th>\n",
       "      <th>Trim</th>\n",
       "      <th>Type</th>\n",
       "      <th>Cylinder</th>\n",
       "      <th>Liter</th>\n",
       "      <th>Doors</th>\n",
       "      <th>Cruise</th>\n",
       "      <th>Sound</th>\n",
       "      <th>Leather</th>\n",
       "    </tr>\n",
       "  </thead>\n",
       "  <tbody>\n",
       "    <tr>\n",
       "      <th>0</th>\n",
       "      <td>17314.10313</td>\n",
       "      <td>8221</td>\n",
       "      <td>Buick</td>\n",
       "      <td>Century</td>\n",
       "      <td>Sedan 4D</td>\n",
       "      <td>Sedan</td>\n",
       "      <td>6</td>\n",
       "      <td>3.1</td>\n",
       "      <td>4</td>\n",
       "      <td>1</td>\n",
       "      <td>1</td>\n",
       "      <td>1</td>\n",
       "    </tr>\n",
       "    <tr>\n",
       "      <th>1</th>\n",
       "      <td>17542.03608</td>\n",
       "      <td>9135</td>\n",
       "      <td>Buick</td>\n",
       "      <td>Century</td>\n",
       "      <td>Sedan 4D</td>\n",
       "      <td>Sedan</td>\n",
       "      <td>6</td>\n",
       "      <td>3.1</td>\n",
       "      <td>4</td>\n",
       "      <td>1</td>\n",
       "      <td>1</td>\n",
       "      <td>0</td>\n",
       "    </tr>\n",
       "    <tr>\n",
       "      <th>2</th>\n",
       "      <td>16218.84786</td>\n",
       "      <td>13196</td>\n",
       "      <td>Buick</td>\n",
       "      <td>Century</td>\n",
       "      <td>Sedan 4D</td>\n",
       "      <td>Sedan</td>\n",
       "      <td>6</td>\n",
       "      <td>3.1</td>\n",
       "      <td>4</td>\n",
       "      <td>1</td>\n",
       "      <td>1</td>\n",
       "      <td>0</td>\n",
       "    </tr>\n",
       "    <tr>\n",
       "      <th>3</th>\n",
       "      <td>16336.91314</td>\n",
       "      <td>16342</td>\n",
       "      <td>Buick</td>\n",
       "      <td>Century</td>\n",
       "      <td>Sedan 4D</td>\n",
       "      <td>Sedan</td>\n",
       "      <td>6</td>\n",
       "      <td>3.1</td>\n",
       "      <td>4</td>\n",
       "      <td>1</td>\n",
       "      <td>0</td>\n",
       "      <td>0</td>\n",
       "    </tr>\n",
       "    <tr>\n",
       "      <th>4</th>\n",
       "      <td>16339.17032</td>\n",
       "      <td>19832</td>\n",
       "      <td>Buick</td>\n",
       "      <td>Century</td>\n",
       "      <td>Sedan 4D</td>\n",
       "      <td>Sedan</td>\n",
       "      <td>6</td>\n",
       "      <td>3.1</td>\n",
       "      <td>4</td>\n",
       "      <td>1</td>\n",
       "      <td>0</td>\n",
       "      <td>1</td>\n",
       "    </tr>\n",
       "  </tbody>\n",
       "</table>\n",
       "</div>"
      ],
      "text/plain": [
       "         Price  Mileage   Make    Model      Trim   Type  Cylinder  Liter  \\\n",
       "0  17314.10313     8221  Buick  Century  Sedan 4D  Sedan         6    3.1   \n",
       "1  17542.03608     9135  Buick  Century  Sedan 4D  Sedan         6    3.1   \n",
       "2  16218.84786    13196  Buick  Century  Sedan 4D  Sedan         6    3.1   \n",
       "3  16336.91314    16342  Buick  Century  Sedan 4D  Sedan         6    3.1   \n",
       "4  16339.17032    19832  Buick  Century  Sedan 4D  Sedan         6    3.1   \n",
       "\n",
       "   Doors  Cruise  Sound  Leather  \n",
       "0      4       1      1        1  \n",
       "1      4       1      1        0  \n",
       "2      4       1      1        0  \n",
       "3      4       1      0        0  \n",
       "4      4       1      0        1  "
      ]
     },
     "execution_count": 4,
     "metadata": {},
     "output_type": "execute_result"
    }
   ],
   "source": [
    "df.head()"
   ]
  },
  {
   "cell_type": "markdown",
   "metadata": {
    "collapsed": true
   },
   "source": [
    "Данные состоят из 804 наблюдений и следующих 12 наблюдений:\n",
    "\n",
    "Price – число - цена автомобиля\n",
    "\n",
    "Mileage – число - пробег (в милях)\n",
    "\n",
    "Make – номинальная -  Производитель: {'Buick', 'Cadillac', 'Chevrolet', 'Pontiac', 'SAAB', 'Saturn'}\n",
    "\n",
    "Model – номинальная  - модель автомобиля \n",
    "\n",
    "Trim – номинальная - тип модели\n",
    "\n",
    "Type – номинальная - тип автомобиля: {'Convertible', 'Coupe', 'Hatchback', 'Sedan', 'Wagon'}\n",
    "\n",
    "Cylinder – число - количество цилиндров {4, 6, 8}\n",
    "\n",
    "Liter – число - объем двигателя\n",
    "\n",
    "Doors – число -  количество дверей {2,4}\n",
    "\n",
    "Cruise – бинарная - наличие круиз-контроля ( 1 – есть, 0 – нет)\n",
    "\n",
    "Sound – бинарная - наличие модернизированной аудиосистемы (1 - есть, 0 – нет)\n",
    "\n",
    "Leather – бинарная - наличие кожаных сидений (1 - есть,0 – нет)\n",
    "\n",
    "Задача - предсказать цену автомобиля, исходя из остальных признаков"
   ]
  },
  {
   "cell_type": "markdown",
   "metadata": {},
   "source": [
    "Проверим, есть ли пропуски в данных:"
   ]
  },
  {
   "cell_type": "code",
   "execution_count": 5,
   "metadata": {
    "collapsed": false
   },
   "outputs": [
    {
     "data": {
      "text/plain": [
       "False"
      ]
     },
     "execution_count": 5,
     "metadata": {},
     "output_type": "execute_result"
    }
   ],
   "source": [
    "pd.isnull(df).values.any()"
   ]
  },
  {
   "cell_type": "markdown",
   "metadata": {},
   "source": [
    "Пропусков нет"
   ]
  },
  {
   "cell_type": "code",
   "execution_count": 6,
   "metadata": {
    "collapsed": false
   },
   "outputs": [
    {
     "data": {
      "text/html": [
       "<div>\n",
       "<table border=\"1\" class=\"dataframe\">\n",
       "  <thead>\n",
       "    <tr style=\"text-align: right;\">\n",
       "      <th></th>\n",
       "      <th>count</th>\n",
       "      <th>unique</th>\n",
       "      <th>top</th>\n",
       "      <th>freq</th>\n",
       "      <th>mean</th>\n",
       "      <th>std</th>\n",
       "      <th>min</th>\n",
       "      <th>25%</th>\n",
       "      <th>50%</th>\n",
       "      <th>75%</th>\n",
       "      <th>max</th>\n",
       "    </tr>\n",
       "  </thead>\n",
       "  <tbody>\n",
       "    <tr>\n",
       "      <th>Price</th>\n",
       "      <td>804</td>\n",
       "      <td>NaN</td>\n",
       "      <td>NaN</td>\n",
       "      <td>NaN</td>\n",
       "      <td>21343.1</td>\n",
       "      <td>9884.85</td>\n",
       "      <td>8638.93</td>\n",
       "      <td>14273.1</td>\n",
       "      <td>18025</td>\n",
       "      <td>26717.3</td>\n",
       "      <td>70755.5</td>\n",
       "    </tr>\n",
       "    <tr>\n",
       "      <th>Mileage</th>\n",
       "      <td>804</td>\n",
       "      <td>NaN</td>\n",
       "      <td>NaN</td>\n",
       "      <td>NaN</td>\n",
       "      <td>19831.9</td>\n",
       "      <td>8196.32</td>\n",
       "      <td>266</td>\n",
       "      <td>14623.5</td>\n",
       "      <td>20913.5</td>\n",
       "      <td>25213</td>\n",
       "      <td>50387</td>\n",
       "    </tr>\n",
       "    <tr>\n",
       "      <th>Make</th>\n",
       "      <td>804</td>\n",
       "      <td>6</td>\n",
       "      <td>Chevrolet</td>\n",
       "      <td>320</td>\n",
       "      <td>NaN</td>\n",
       "      <td>NaN</td>\n",
       "      <td>NaN</td>\n",
       "      <td>NaN</td>\n",
       "      <td>NaN</td>\n",
       "      <td>NaN</td>\n",
       "      <td>NaN</td>\n",
       "    </tr>\n",
       "    <tr>\n",
       "      <th>Model</th>\n",
       "      <td>804</td>\n",
       "      <td>32</td>\n",
       "      <td>Cavalier</td>\n",
       "      <td>60</td>\n",
       "      <td>NaN</td>\n",
       "      <td>NaN</td>\n",
       "      <td>NaN</td>\n",
       "      <td>NaN</td>\n",
       "      <td>NaN</td>\n",
       "      <td>NaN</td>\n",
       "      <td>NaN</td>\n",
       "    </tr>\n",
       "    <tr>\n",
       "      <th>Trim</th>\n",
       "      <td>804</td>\n",
       "      <td>47</td>\n",
       "      <td>Sedan 4D</td>\n",
       "      <td>170</td>\n",
       "      <td>NaN</td>\n",
       "      <td>NaN</td>\n",
       "      <td>NaN</td>\n",
       "      <td>NaN</td>\n",
       "      <td>NaN</td>\n",
       "      <td>NaN</td>\n",
       "      <td>NaN</td>\n",
       "    </tr>\n",
       "    <tr>\n",
       "      <th>Type</th>\n",
       "      <td>804</td>\n",
       "      <td>5</td>\n",
       "      <td>Sedan</td>\n",
       "      <td>490</td>\n",
       "      <td>NaN</td>\n",
       "      <td>NaN</td>\n",
       "      <td>NaN</td>\n",
       "      <td>NaN</td>\n",
       "      <td>NaN</td>\n",
       "      <td>NaN</td>\n",
       "      <td>NaN</td>\n",
       "    </tr>\n",
       "    <tr>\n",
       "      <th>Cylinder</th>\n",
       "      <td>804</td>\n",
       "      <td>NaN</td>\n",
       "      <td>NaN</td>\n",
       "      <td>NaN</td>\n",
       "      <td>5.26866</td>\n",
       "      <td>1.38753</td>\n",
       "      <td>4</td>\n",
       "      <td>4</td>\n",
       "      <td>6</td>\n",
       "      <td>6</td>\n",
       "      <td>8</td>\n",
       "    </tr>\n",
       "    <tr>\n",
       "      <th>Liter</th>\n",
       "      <td>804</td>\n",
       "      <td>NaN</td>\n",
       "      <td>NaN</td>\n",
       "      <td>NaN</td>\n",
       "      <td>3.03731</td>\n",
       "      <td>1.10556</td>\n",
       "      <td>1.6</td>\n",
       "      <td>2.2</td>\n",
       "      <td>2.8</td>\n",
       "      <td>3.8</td>\n",
       "      <td>6</td>\n",
       "    </tr>\n",
       "    <tr>\n",
       "      <th>Doors</th>\n",
       "      <td>804</td>\n",
       "      <td>NaN</td>\n",
       "      <td>NaN</td>\n",
       "      <td>NaN</td>\n",
       "      <td>3.52736</td>\n",
       "      <td>0.850169</td>\n",
       "      <td>2</td>\n",
       "      <td>4</td>\n",
       "      <td>4</td>\n",
       "      <td>4</td>\n",
       "      <td>4</td>\n",
       "    </tr>\n",
       "    <tr>\n",
       "      <th>Cruise</th>\n",
       "      <td>804</td>\n",
       "      <td>NaN</td>\n",
       "      <td>NaN</td>\n",
       "      <td>NaN</td>\n",
       "      <td>0.752488</td>\n",
       "      <td>0.431836</td>\n",
       "      <td>0</td>\n",
       "      <td>1</td>\n",
       "      <td>1</td>\n",
       "      <td>1</td>\n",
       "      <td>1</td>\n",
       "    </tr>\n",
       "    <tr>\n",
       "      <th>Sound</th>\n",
       "      <td>804</td>\n",
       "      <td>NaN</td>\n",
       "      <td>NaN</td>\n",
       "      <td>NaN</td>\n",
       "      <td>0.679104</td>\n",
       "      <td>0.467111</td>\n",
       "      <td>0</td>\n",
       "      <td>0</td>\n",
       "      <td>1</td>\n",
       "      <td>1</td>\n",
       "      <td>1</td>\n",
       "    </tr>\n",
       "    <tr>\n",
       "      <th>Leather</th>\n",
       "      <td>804</td>\n",
       "      <td>NaN</td>\n",
       "      <td>NaN</td>\n",
       "      <td>NaN</td>\n",
       "      <td>0.723881</td>\n",
       "      <td>0.447355</td>\n",
       "      <td>0</td>\n",
       "      <td>0</td>\n",
       "      <td>1</td>\n",
       "      <td>1</td>\n",
       "      <td>1</td>\n",
       "    </tr>\n",
       "  </tbody>\n",
       "</table>\n",
       "</div>"
      ],
      "text/plain": [
       "         count unique        top freq      mean       std      min      25%  \\\n",
       "Price      804    NaN        NaN  NaN   21343.1   9884.85  8638.93  14273.1   \n",
       "Mileage    804    NaN        NaN  NaN   19831.9   8196.32      266  14623.5   \n",
       "Make       804      6  Chevrolet  320       NaN       NaN      NaN      NaN   \n",
       "Model      804     32   Cavalier   60       NaN       NaN      NaN      NaN   \n",
       "Trim       804     47   Sedan 4D  170       NaN       NaN      NaN      NaN   \n",
       "Type       804      5      Sedan  490       NaN       NaN      NaN      NaN   \n",
       "Cylinder   804    NaN        NaN  NaN   5.26866   1.38753        4        4   \n",
       "Liter      804    NaN        NaN  NaN   3.03731   1.10556      1.6      2.2   \n",
       "Doors      804    NaN        NaN  NaN   3.52736  0.850169        2        4   \n",
       "Cruise     804    NaN        NaN  NaN  0.752488  0.431836        0        1   \n",
       "Sound      804    NaN        NaN  NaN  0.679104  0.467111        0        0   \n",
       "Leather    804    NaN        NaN  NaN  0.723881  0.447355        0        0   \n",
       "\n",
       "              50%      75%      max  \n",
       "Price       18025  26717.3  70755.5  \n",
       "Mileage   20913.5    25213    50387  \n",
       "Make          NaN      NaN      NaN  \n",
       "Model         NaN      NaN      NaN  \n",
       "Trim          NaN      NaN      NaN  \n",
       "Type          NaN      NaN      NaN  \n",
       "Cylinder        6        6        8  \n",
       "Liter         2.8      3.8        6  \n",
       "Doors           4        4        4  \n",
       "Cruise          1        1        1  \n",
       "Sound           1        1        1  \n",
       "Leather         1        1        1  "
      ]
     },
     "execution_count": 6,
     "metadata": {},
     "output_type": "execute_result"
    }
   ],
   "source": [
    "df.describe(include='all').T"
   ]
  },
  {
   "cell_type": "markdown",
   "metadata": {},
   "source": [
    "Визуализация признаков:"
   ]
  },
  {
   "cell_type": "code",
   "execution_count": 7,
   "metadata": {
    "collapsed": false
   },
   "outputs": [
    {
     "data": {
      "image/png": "[encoded data removed]",
      "text/plain": [
       "<matplotlib.figure.Figure at 0x7d02610>"
      ]
     },
     "metadata": {},
     "output_type": "display_data"
    }
   ],
   "source": [
    "df.hist(color = 'k', bins = 30, figsize=(15,10))\n",
    "plt.show()"
   ]
  },
  {
   "cell_type": "code",
   "execution_count": 8,
   "metadata": {
    "collapsed": false
   },
   "outputs": [
    {
     "data": {
      "text/plain": [
       "<matplotlib.axes._subplots.AxesSubplot at 0x8243d90>"
      ]
     },
     "execution_count": 8,
     "metadata": {},
     "output_type": "execute_result"
    },
    {
     "data": {
      "image/png": "[encoded data removed]",
      "text/plain": [
       "<matplotlib.figure.Figure at 0x7f3fa10>"
      ]
     },
     "metadata": {},
     "output_type": "display_data"
    },
    {
     "data": {
      "image/png": "[encoded data removed]",
      "text/plain": [
       "<matplotlib.figure.Figure at 0x7f6acb0>"
      ]
     },
     "metadata": {},
     "output_type": "display_data"
    },
    {
     "data": {
      "image/png": "[encoded data removed]",
      "text/plain": [
       "<matplotlib.figure.Figure at 0x8820b30>"
      ]
     },
     "metadata": {},
     "output_type": "display_data"
    },
    {
     "data": {
      "image/png": "[encoded data removed]",
      "text/plain": [
       "<matplotlib.figure.Figure at 0x8174430>"
      ]
     },
     "metadata": {},
     "output_type": "display_data"
    }
   ],
   "source": [
    "fig1 = plt.figure()\n",
    "(df['Make'].value_counts().plot(kind='bar'))\n",
    "fig2 = plt.figure()\n",
    "df['Model'].value_counts().plot(kind='bar')\n",
    "fig3 = plt.figure()\n",
    "df['Trim'].value_counts().plot(kind='bar')\n",
    "fig4 = plt.figure()\n",
    "df['Type'].value_counts().plot(kind='bar')"
   ]
  },
  {
   "cell_type": "markdown",
   "metadata": {},
   "source": [
    "Визуализация зависимости между небинарными признаками:"
   ]
  },
  {
   "cell_type": "code",
   "execution_count": 10,
   "metadata": {
    "collapsed": false
   },
   "outputs": [
    {
     "data": {
      "image/png": "[encoded data removed]",
      "text/plain": [
       "<matplotlib.figure.Figure at 0x87b0670>"
      ]
     },
     "metadata": {},
     "output_type": "display_data"
    }
   ],
   "source": [
    "\n",
    "pd.scatter_matrix(df[['Price', 'Mileage', 'Liter', 'Cylinder']], figsize=(15, 15), diagonal='kde')\n",
    "plt.show()"
   ]
  },
  {
   "cell_type": "markdown",
   "metadata": {},
   "source": [
    "Добавим dummy-переменные:"
   ]
  },
  {
   "cell_type": "code",
   "execution_count": 11,
   "metadata": {
    "collapsed": false
   },
   "outputs": [],
   "source": [
    "df_make = pd.get_dummies(df['Make'])\n",
    "df_model=pd.get_dummies(df['Model'])\n",
    "df_trim = pd.get_dummies(df['Trim'])\n",
    "df_type=pd.get_dummies(df['Type'])\n",
    "df1= pd.DataFrame(pd.concat([df, df_make,df_model,df_trim,df_type], axis=1))\n",
    "df1=df1.drop('Make',1)\n",
    "df1=df1.drop('Model',1)\n",
    "df1=df1.drop('Trim',1)\n",
    "df1=df1.drop('Type',1)"
   ]
  },
  {
   "cell_type": "code",
   "execution_count": 54,
   "metadata": {
    "collapsed": false
   },
   "outputs": [
    {
     "data": {
      "text/html": [
       "<div>\n",
       "<table border=\"1\" class=\"dataframe\">\n",
       "  <thead>\n",
       "    <tr style=\"text-align: right;\">\n",
       "      <th></th>\n",
       "      <th>Price</th>\n",
       "      <th>Mileage</th>\n",
       "      <th>Cylinder</th>\n",
       "      <th>Liter</th>\n",
       "      <th>Doors</th>\n",
       "      <th>Cruise</th>\n",
       "      <th>Sound</th>\n",
       "      <th>Leather</th>\n",
       "      <th>Buick</th>\n",
       "      <th>Cadillac</th>\n",
       "      <th>...</th>\n",
       "      <th>SVM Hatchback 4D</th>\n",
       "      <th>SVM Sedan 4D</th>\n",
       "      <th>Sedan 4D</th>\n",
       "      <th>Special Ed Ultra 4D</th>\n",
       "      <th>Sportwagon 4D</th>\n",
       "      <th>Convertible</th>\n",
       "      <th>Coupe</th>\n",
       "      <th>Hatchback</th>\n",
       "      <th>Sedan</th>\n",
       "      <th>Wagon</th>\n",
       "    </tr>\n",
       "  </thead>\n",
       "  <tbody>\n",
       "    <tr>\n",
       "      <th>0</th>\n",
       "      <td>17314.10313</td>\n",
       "      <td>8221</td>\n",
       "      <td>6</td>\n",
       "      <td>3.1</td>\n",
       "      <td>4</td>\n",
       "      <td>1</td>\n",
       "      <td>1</td>\n",
       "      <td>1</td>\n",
       "      <td>1</td>\n",
       "      <td>0</td>\n",
       "      <td>...</td>\n",
       "      <td>0</td>\n",
       "      <td>0</td>\n",
       "      <td>1</td>\n",
       "      <td>0</td>\n",
       "      <td>0</td>\n",
       "      <td>0</td>\n",
       "      <td>0</td>\n",
       "      <td>0</td>\n",
       "      <td>1</td>\n",
       "      <td>0</td>\n",
       "    </tr>\n",
       "    <tr>\n",
       "      <th>1</th>\n",
       "      <td>17542.03608</td>\n",
       "      <td>9135</td>\n",
       "      <td>6</td>\n",
       "      <td>3.1</td>\n",
       "      <td>4</td>\n",
       "      <td>1</td>\n",
       "      <td>1</td>\n",
       "      <td>0</td>\n",
       "      <td>1</td>\n",
       "      <td>0</td>\n",
       "      <td>...</td>\n",
       "      <td>0</td>\n",
       "      <td>0</td>\n",
       "      <td>1</td>\n",
       "      <td>0</td>\n",
       "      <td>0</td>\n",
       "      <td>0</td>\n",
       "      <td>0</td>\n",
       "      <td>0</td>\n",
       "      <td>1</td>\n",
       "      <td>0</td>\n",
       "    </tr>\n",
       "    <tr>\n",
       "      <th>2</th>\n",
       "      <td>16218.84786</td>\n",
       "      <td>13196</td>\n",
       "      <td>6</td>\n",
       "      <td>3.1</td>\n",
       "      <td>4</td>\n",
       "      <td>1</td>\n",
       "      <td>1</td>\n",
       "      <td>0</td>\n",
       "      <td>1</td>\n",
       "      <td>0</td>\n",
       "      <td>...</td>\n",
       "      <td>0</td>\n",
       "      <td>0</td>\n",
       "      <td>1</td>\n",
       "      <td>0</td>\n",
       "      <td>0</td>\n",
       "      <td>0</td>\n",
       "      <td>0</td>\n",
       "      <td>0</td>\n",
       "      <td>1</td>\n",
       "      <td>0</td>\n",
       "    </tr>\n",
       "    <tr>\n",
       "      <th>3</th>\n",
       "      <td>16336.91314</td>\n",
       "      <td>16342</td>\n",
       "      <td>6</td>\n",
       "      <td>3.1</td>\n",
       "      <td>4</td>\n",
       "      <td>1</td>\n",
       "      <td>0</td>\n",
       "      <td>0</td>\n",
       "      <td>1</td>\n",
       "      <td>0</td>\n",
       "      <td>...</td>\n",
       "      <td>0</td>\n",
       "      <td>0</td>\n",
       "      <td>1</td>\n",
       "      <td>0</td>\n",
       "      <td>0</td>\n",
       "      <td>0</td>\n",
       "      <td>0</td>\n",
       "      <td>0</td>\n",
       "      <td>1</td>\n",
       "      <td>0</td>\n",
       "    </tr>\n",
       "    <tr>\n",
       "      <th>4</th>\n",
       "      <td>16339.17032</td>\n",
       "      <td>19832</td>\n",
       "      <td>6</td>\n",
       "      <td>3.1</td>\n",
       "      <td>4</td>\n",
       "      <td>1</td>\n",
       "      <td>0</td>\n",
       "      <td>1</td>\n",
       "      <td>1</td>\n",
       "      <td>0</td>\n",
       "      <td>...</td>\n",
       "      <td>0</td>\n",
       "      <td>0</td>\n",
       "      <td>1</td>\n",
       "      <td>0</td>\n",
       "      <td>0</td>\n",
       "      <td>0</td>\n",
       "      <td>0</td>\n",
       "      <td>0</td>\n",
       "      <td>1</td>\n",
       "      <td>0</td>\n",
       "    </tr>\n",
       "  </tbody>\n",
       "</table>\n",
       "<p>5 rows × 98 columns</p>\n",
       "</div>"
      ],
      "text/plain": [
       "         Price  Mileage  Cylinder  Liter  Doors  Cruise  Sound  Leather  \\\n",
       "0  17314.10313     8221         6    3.1      4       1      1        1   \n",
       "1  17542.03608     9135         6    3.1      4       1      1        0   \n",
       "2  16218.84786    13196         6    3.1      4       1      1        0   \n",
       "3  16336.91314    16342         6    3.1      4       1      0        0   \n",
       "4  16339.17032    19832         6    3.1      4       1      0        1   \n",
       "\n",
       "   Buick  Cadillac  ...    SVM Hatchback 4D  SVM Sedan 4D  Sedan 4D  \\\n",
       "0      1         0  ...                   0             0         1   \n",
       "1      1         0  ...                   0             0         1   \n",
       "2      1         0  ...                   0             0         1   \n",
       "3      1         0  ...                   0             0         1   \n",
       "4      1         0  ...                   0             0         1   \n",
       "\n",
       "   Special Ed Ultra 4D  Sportwagon 4D  Convertible  Coupe  Hatchback  Sedan  \\\n",
       "0                    0              0            0      0          0      1   \n",
       "1                    0              0            0      0          0      1   \n",
       "2                    0              0            0      0          0      1   \n",
       "3                    0              0            0      0          0      1   \n",
       "4                    0              0            0      0          0      1   \n",
       "\n",
       "   Wagon  \n",
       "0      0  \n",
       "1      0  \n",
       "2      0  \n",
       "3      0  \n",
       "4      0  \n",
       "\n",
       "[5 rows x 98 columns]"
      ]
     },
     "execution_count": 54,
     "metadata": {},
     "output_type": "execute_result"
    }
   ],
   "source": [
    "df1.head()"
   ]
  },
  {
   "cell_type": "markdown",
   "metadata": {},
   "source": [
    "Отберем наиболее важные признаки с помощью Random Forest без настройки параметров:"
   ]
  },
  {
   "cell_type": "code",
   "execution_count": 72,
   "metadata": {
    "collapsed": false
   },
   "outputs": [],
   "source": [
    "from sklearn.cross_validation import train_test_split\n",
    "X_train, X_test, y_train, y_test = train_test_split(df1.drop('Price',1), \n",
    "                                                    df1.Price, test_size=0.3, \n",
    "                                                    random_state=1)"
   ]
  },
  {
   "cell_type": "code",
   "execution_count": 73,
   "metadata": {
    "collapsed": false
   },
   "outputs": [],
   "source": [
    "from sklearn.ensemble import RandomForestRegressor\n",
    "RFR=RandomForestRegressor(random_state=1).fit(X_train,y_train)"
   ]
  },
  {
   "cell_type": "code",
   "execution_count": 74,
   "metadata": {
    "collapsed": false
   },
   "outputs": [
    {
     "data": {
      "text/html": [
       "<div>\n",
       "<table border=\"1\" class=\"dataframe\">\n",
       "  <thead>\n",
       "    <tr style=\"text-align: right;\">\n",
       "      <th></th>\n",
       "      <th>Importance</th>\n",
       "    </tr>\n",
       "  </thead>\n",
       "  <tbody>\n",
       "    <tr>\n",
       "      <th>Liter</th>\n",
       "      <td>4.127426e-01</td>\n",
       "    </tr>\n",
       "    <tr>\n",
       "      <th>SAAB</th>\n",
       "      <td>1.784012e-01</td>\n",
       "    </tr>\n",
       "    <tr>\n",
       "      <th>Cadillac</th>\n",
       "      <td>1.257363e-01</td>\n",
       "    </tr>\n",
       "    <tr>\n",
       "      <th>Cylinder</th>\n",
       "      <td>1.018409e-01</td>\n",
       "    </tr>\n",
       "    <tr>\n",
       "      <th>Hardtop Conv 2D</th>\n",
       "      <td>5.369362e-02</td>\n",
       "    </tr>\n",
       "    <tr>\n",
       "      <th>XLR-V8</th>\n",
       "      <td>3.019220e-02</td>\n",
       "    </tr>\n",
       "    <tr>\n",
       "      <th>Mileage</th>\n",
       "      <td>2.860256e-02</td>\n",
       "    </tr>\n",
       "    <tr>\n",
       "      <th>Pontiac</th>\n",
       "      <td>2.327930e-02</td>\n",
       "    </tr>\n",
       "    <tr>\n",
       "      <th>Doors</th>\n",
       "      <td>8.963547e-03</td>\n",
       "    </tr>\n",
       "    <tr>\n",
       "      <th>Convertible</th>\n",
       "      <td>3.808225e-03</td>\n",
       "    </tr>\n",
       "    <tr>\n",
       "      <th>Deville</th>\n",
       "      <td>3.351124e-03</td>\n",
       "    </tr>\n",
       "    <tr>\n",
       "      <th>Sedan 4D</th>\n",
       "      <td>2.505405e-03</td>\n",
       "    </tr>\n",
       "    <tr>\n",
       "      <th>AVEO</th>\n",
       "      <td>2.376019e-03</td>\n",
       "    </tr>\n",
       "    <tr>\n",
       "      <th>Park Avenue</th>\n",
       "      <td>2.211184e-03</td>\n",
       "    </tr>\n",
       "    <tr>\n",
       "      <th>Coupe</th>\n",
       "      <td>1.680174e-03</td>\n",
       "    </tr>\n",
       "    <tr>\n",
       "      <th>Sound</th>\n",
       "      <td>1.609568e-03</td>\n",
       "    </tr>\n",
       "    <tr>\n",
       "      <th>Malibu</th>\n",
       "      <td>1.447307e-03</td>\n",
       "    </tr>\n",
       "    <tr>\n",
       "      <th>SS Sedan 4D</th>\n",
       "      <td>1.380509e-03</td>\n",
       "    </tr>\n",
       "    <tr>\n",
       "      <th>LS Coupe 2D</th>\n",
       "      <td>1.129742e-03</td>\n",
       "    </tr>\n",
       "    <tr>\n",
       "      <th>Grand Prix</th>\n",
       "      <td>8.966256e-04</td>\n",
       "    </tr>\n",
       "    <tr>\n",
       "      <th>CST-V</th>\n",
       "      <td>8.448398e-04</td>\n",
       "    </tr>\n",
       "    <tr>\n",
       "      <th>Coupe 2D</th>\n",
       "      <td>7.961032e-04</td>\n",
       "    </tr>\n",
       "    <tr>\n",
       "      <th>G6</th>\n",
       "      <td>7.773750e-04</td>\n",
       "    </tr>\n",
       "    <tr>\n",
       "      <th>STS-V8</th>\n",
       "      <td>7.203348e-04</td>\n",
       "    </tr>\n",
       "    <tr>\n",
       "      <th>STS-V6</th>\n",
       "      <td>5.778988e-04</td>\n",
       "    </tr>\n",
       "    <tr>\n",
       "      <th>GXP Sedan 4D</th>\n",
       "      <td>5.230196e-04</td>\n",
       "    </tr>\n",
       "    <tr>\n",
       "      <th>GT Sedan 4D</th>\n",
       "      <td>4.793029e-04</td>\n",
       "    </tr>\n",
       "    <tr>\n",
       "      <th>Vibe</th>\n",
       "      <td>4.699405e-04</td>\n",
       "    </tr>\n",
       "    <tr>\n",
       "      <th>Arc Sedan 4D</th>\n",
       "      <td>4.617321e-04</td>\n",
       "    </tr>\n",
       "    <tr>\n",
       "      <th>Wagon</th>\n",
       "      <td>4.402848e-04</td>\n",
       "    </tr>\n",
       "    <tr>\n",
       "      <th>...</th>\n",
       "      <td>...</td>\n",
       "    </tr>\n",
       "    <tr>\n",
       "      <th>Ion</th>\n",
       "      <td>5.838949e-05</td>\n",
       "    </tr>\n",
       "    <tr>\n",
       "      <th>9_3 HO</th>\n",
       "      <td>5.573532e-05</td>\n",
       "    </tr>\n",
       "    <tr>\n",
       "      <th>9_3</th>\n",
       "      <td>5.330161e-05</td>\n",
       "    </tr>\n",
       "    <tr>\n",
       "      <th>Linear Sedan 4D</th>\n",
       "      <td>5.314591e-05</td>\n",
       "    </tr>\n",
       "    <tr>\n",
       "      <th>LS Sport Sedan 4D</th>\n",
       "      <td>3.230635e-05</td>\n",
       "    </tr>\n",
       "    <tr>\n",
       "      <th>Hatchback</th>\n",
       "      <td>3.049662e-05</td>\n",
       "    </tr>\n",
       "    <tr>\n",
       "      <th>LT Sedan 4D</th>\n",
       "      <td>2.972634e-05</td>\n",
       "    </tr>\n",
       "    <tr>\n",
       "      <th>Classic</th>\n",
       "      <td>2.794011e-05</td>\n",
       "    </tr>\n",
       "    <tr>\n",
       "      <th>Conv 2D</th>\n",
       "      <td>2.460317e-05</td>\n",
       "    </tr>\n",
       "    <tr>\n",
       "      <th>Monte Carlo</th>\n",
       "      <td>2.181588e-05</td>\n",
       "    </tr>\n",
       "    <tr>\n",
       "      <th>DHS Sedan 4D</th>\n",
       "      <td>2.141774e-05</td>\n",
       "    </tr>\n",
       "    <tr>\n",
       "      <th>Century</th>\n",
       "      <td>1.936565e-05</td>\n",
       "    </tr>\n",
       "    <tr>\n",
       "      <th>Arc Wagon 4D</th>\n",
       "      <td>1.437608e-05</td>\n",
       "    </tr>\n",
       "    <tr>\n",
       "      <th>Sportwagon 4D</th>\n",
       "      <td>1.350152e-05</td>\n",
       "    </tr>\n",
       "    <tr>\n",
       "      <th>Saturn</th>\n",
       "      <td>1.319117e-05</td>\n",
       "    </tr>\n",
       "    <tr>\n",
       "      <th>AWD Sportwagon 4D</th>\n",
       "      <td>1.245915e-05</td>\n",
       "    </tr>\n",
       "    <tr>\n",
       "      <th>MAXX Hback 4D</th>\n",
       "      <td>1.134073e-05</td>\n",
       "    </tr>\n",
       "    <tr>\n",
       "      <th>LT MAXX Hback 4D</th>\n",
       "      <td>9.000107e-06</td>\n",
       "    </tr>\n",
       "    <tr>\n",
       "      <th>Grand Am</th>\n",
       "      <td>6.722679e-06</td>\n",
       "    </tr>\n",
       "    <tr>\n",
       "      <th>LS MAXX Hback 4D</th>\n",
       "      <td>6.140936e-06</td>\n",
       "    </tr>\n",
       "    <tr>\n",
       "      <th>L300 Sedan 4D</th>\n",
       "      <td>6.058446e-06</td>\n",
       "    </tr>\n",
       "    <tr>\n",
       "      <th>L Series</th>\n",
       "      <td>4.971339e-06</td>\n",
       "    </tr>\n",
       "    <tr>\n",
       "      <th>LS Sport Coupe 2D</th>\n",
       "      <td>4.476686e-06</td>\n",
       "    </tr>\n",
       "    <tr>\n",
       "      <th>Lesabre</th>\n",
       "      <td>3.974456e-06</td>\n",
       "    </tr>\n",
       "    <tr>\n",
       "      <th>GT Sportwagon</th>\n",
       "      <td>1.225313e-06</td>\n",
       "    </tr>\n",
       "    <tr>\n",
       "      <th>GT Coupe 2D</th>\n",
       "      <td>9.908363e-07</td>\n",
       "    </tr>\n",
       "    <tr>\n",
       "      <th>LS Hatchback 4D</th>\n",
       "      <td>4.773233e-07</td>\n",
       "    </tr>\n",
       "    <tr>\n",
       "      <th>LT Hatchback 4D</th>\n",
       "      <td>1.868893e-07</td>\n",
       "    </tr>\n",
       "    <tr>\n",
       "      <th>Sunfire</th>\n",
       "      <td>2.420472e-08</td>\n",
       "    </tr>\n",
       "    <tr>\n",
       "      <th>GTO</th>\n",
       "      <td>0.000000e+00</td>\n",
       "    </tr>\n",
       "  </tbody>\n",
       "</table>\n",
       "<p>97 rows × 1 columns</p>\n",
       "</div>"
      ],
      "text/plain": [
       "                     Importance\n",
       "Liter              4.127426e-01\n",
       "SAAB               1.784012e-01\n",
       "Cadillac           1.257363e-01\n",
       "Cylinder           1.018409e-01\n",
       "Hardtop Conv 2D    5.369362e-02\n",
       "XLR-V8             3.019220e-02\n",
       "Mileage            2.860256e-02\n",
       "Pontiac            2.327930e-02\n",
       "Doors              8.963547e-03\n",
       "Convertible        3.808225e-03\n",
       "Deville            3.351124e-03\n",
       "Sedan 4D           2.505405e-03\n",
       "AVEO               2.376019e-03\n",
       "Park Avenue        2.211184e-03\n",
       "Coupe              1.680174e-03\n",
       "Sound              1.609568e-03\n",
       "Malibu             1.447307e-03\n",
       "SS Sedan 4D        1.380509e-03\n",
       "LS Coupe 2D        1.129742e-03\n",
       "Grand Prix         8.966256e-04\n",
       "CST-V              8.448398e-04\n",
       "Coupe 2D           7.961032e-04\n",
       "G6                 7.773750e-04\n",
       "STS-V8             7.203348e-04\n",
       "STS-V6             5.778988e-04\n",
       "GXP Sedan 4D       5.230196e-04\n",
       "GT Sedan 4D        4.793029e-04\n",
       "Vibe               4.699405e-04\n",
       "Arc Sedan 4D       4.617321e-04\n",
       "Wagon              4.402848e-04\n",
       "...                         ...\n",
       "Ion                5.838949e-05\n",
       "9_3 HO             5.573532e-05\n",
       "9_3                5.330161e-05\n",
       "Linear Sedan 4D    5.314591e-05\n",
       "LS Sport Sedan 4D  3.230635e-05\n",
       "Hatchback          3.049662e-05\n",
       "LT Sedan 4D        2.972634e-05\n",
       "Classic            2.794011e-05\n",
       "Conv 2D            2.460317e-05\n",
       "Monte Carlo        2.181588e-05\n",
       "DHS Sedan 4D       2.141774e-05\n",
       "Century            1.936565e-05\n",
       "Arc Wagon 4D       1.437608e-05\n",
       "Sportwagon 4D      1.350152e-05\n",
       "Saturn             1.319117e-05\n",
       "AWD Sportwagon 4D  1.245915e-05\n",
       "MAXX Hback 4D      1.134073e-05\n",
       "LT MAXX Hback 4D   9.000107e-06\n",
       "Grand Am           6.722679e-06\n",
       "LS MAXX Hback 4D   6.140936e-06\n",
       "L300 Sedan 4D      6.058446e-06\n",
       "L Series           4.971339e-06\n",
       "LS Sport Coupe 2D  4.476686e-06\n",
       "Lesabre            3.974456e-06\n",
       "GT Sportwagon      1.225313e-06\n",
       "GT Coupe 2D        9.908363e-07\n",
       "LS Hatchback 4D    4.773233e-07\n",
       "LT Hatchback 4D    1.868893e-07\n",
       "Sunfire            2.420472e-08\n",
       "GTO                0.000000e+00\n",
       "\n",
       "[97 rows x 1 columns]"
      ]
     },
     "execution_count": 74,
     "metadata": {},
     "output_type": "execute_result"
    }
   ],
   "source": [
    "features = pd.DataFrame(RFR.feature_importances_, index=X_train.columns, \n",
    "                        columns=['Importance']).sort_values(['Importance'], ascending=False)\n",
    "features"
   ]
  },
  {
   "cell_type": "markdown",
   "metadata": {
    "collapsed": true
   },
   "source": [
    "Выберем  10 признаков с наибольшей важностью. Посчитаем корреляции между признаками."
   ]
  },
  {
   "cell_type": "code",
   "execution_count": 75,
   "metadata": {
    "collapsed": false
   },
   "outputs": [
    {
     "data": {
      "text/html": [
       "<div>\n",
       "<table border=\"1\" class=\"dataframe\">\n",
       "  <thead>\n",
       "    <tr style=\"text-align: right;\">\n",
       "      <th></th>\n",
       "      <th>Liter</th>\n",
       "      <th>Cadillac</th>\n",
       "      <th>SAAB</th>\n",
       "      <th>Cylinder</th>\n",
       "      <th>Hardtop Conv 2D</th>\n",
       "      <th>XLR-V8</th>\n",
       "      <th>Mileage</th>\n",
       "      <th>Pontiac</th>\n",
       "      <th>Doors</th>\n",
       "      <th>Convertible</th>\n",
       "    </tr>\n",
       "  </thead>\n",
       "  <tbody>\n",
       "    <tr>\n",
       "      <th>Liter</th>\n",
       "      <td>1.000000</td>\n",
       "      <td>0.406216</td>\n",
       "      <td>0.326754</td>\n",
       "      <td>0.957897</td>\n",
       "      <td>0.158726</td>\n",
       "      <td>0.158726</td>\n",
       "      <td>0.018641</td>\n",
       "      <td>0.113863</td>\n",
       "      <td>0.079259</td>\n",
       "      <td>0.065886</td>\n",
       "    </tr>\n",
       "    <tr>\n",
       "      <th>Cadillac</th>\n",
       "      <td>0.406216</td>\n",
       "      <td>1.000000</td>\n",
       "      <td>0.135115</td>\n",
       "      <td>0.534896</td>\n",
       "      <td>0.337609</td>\n",
       "      <td>0.337609</td>\n",
       "      <td>0.037472</td>\n",
       "      <td>0.159196</td>\n",
       "      <td>0.087104</td>\n",
       "      <td>0.086456</td>\n",
       "    </tr>\n",
       "    <tr>\n",
       "      <th>SAAB</th>\n",
       "      <td>0.326754</td>\n",
       "      <td>0.135115</td>\n",
       "      <td>1.000000</td>\n",
       "      <td>0.371877</td>\n",
       "      <td>0.045616</td>\n",
       "      <td>0.045616</td>\n",
       "      <td>0.056182</td>\n",
       "      <td>0.194664</td>\n",
       "      <td>0.025680</td>\n",
       "      <td>0.338253</td>\n",
       "    </tr>\n",
       "    <tr>\n",
       "      <th>Cylinder</th>\n",
       "      <td>0.957897</td>\n",
       "      <td>0.534896</td>\n",
       "      <td>0.371877</td>\n",
       "      <td>1.000000</td>\n",
       "      <td>0.221052</td>\n",
       "      <td>0.221052</td>\n",
       "      <td>0.029461</td>\n",
       "      <td>0.114436</td>\n",
       "      <td>0.002206</td>\n",
       "      <td>0.061533</td>\n",
       "    </tr>\n",
       "    <tr>\n",
       "      <th>Hardtop Conv 2D</th>\n",
       "      <td>0.158726</td>\n",
       "      <td>0.337609</td>\n",
       "      <td>0.045616</td>\n",
       "      <td>0.221052</td>\n",
       "      <td>1.000000</td>\n",
       "      <td>1.000000</td>\n",
       "      <td>0.014597</td>\n",
       "      <td>0.053746</td>\n",
       "      <td>0.201742</td>\n",
       "      <td>0.435803</td>\n",
       "    </tr>\n",
       "    <tr>\n",
       "      <th>XLR-V8</th>\n",
       "      <td>0.158726</td>\n",
       "      <td>0.337609</td>\n",
       "      <td>0.045616</td>\n",
       "      <td>0.221052</td>\n",
       "      <td>1.000000</td>\n",
       "      <td>1.000000</td>\n",
       "      <td>0.014597</td>\n",
       "      <td>0.053746</td>\n",
       "      <td>0.201742</td>\n",
       "      <td>0.435803</td>\n",
       "    </tr>\n",
       "    <tr>\n",
       "      <th>Mileage</th>\n",
       "      <td>0.018641</td>\n",
       "      <td>0.037472</td>\n",
       "      <td>0.056182</td>\n",
       "      <td>0.029461</td>\n",
       "      <td>0.014597</td>\n",
       "      <td>0.014597</td>\n",
       "      <td>1.000000</td>\n",
       "      <td>0.029892</td>\n",
       "      <td>0.016944</td>\n",
       "      <td>0.027436</td>\n",
       "    </tr>\n",
       "    <tr>\n",
       "      <th>Pontiac</th>\n",
       "      <td>0.113863</td>\n",
       "      <td>0.159196</td>\n",
       "      <td>0.194664</td>\n",
       "      <td>0.114436</td>\n",
       "      <td>0.053746</td>\n",
       "      <td>0.053746</td>\n",
       "      <td>0.029892</td>\n",
       "      <td>1.000000</td>\n",
       "      <td>0.040943</td>\n",
       "      <td>0.123326</td>\n",
       "    </tr>\n",
       "    <tr>\n",
       "      <th>Doors</th>\n",
       "      <td>0.079259</td>\n",
       "      <td>0.087104</td>\n",
       "      <td>0.025680</td>\n",
       "      <td>0.002206</td>\n",
       "      <td>0.201742</td>\n",
       "      <td>0.201742</td>\n",
       "      <td>0.016944</td>\n",
       "      <td>0.040943</td>\n",
       "      <td>1.000000</td>\n",
       "      <td>0.462921</td>\n",
       "    </tr>\n",
       "    <tr>\n",
       "      <th>Convertible</th>\n",
       "      <td>0.065886</td>\n",
       "      <td>0.086456</td>\n",
       "      <td>0.338253</td>\n",
       "      <td>0.061533</td>\n",
       "      <td>0.435803</td>\n",
       "      <td>0.435803</td>\n",
       "      <td>0.027436</td>\n",
       "      <td>0.123326</td>\n",
       "      <td>0.462921</td>\n",
       "      <td>1.000000</td>\n",
       "    </tr>\n",
       "  </tbody>\n",
       "</table>\n",
       "</div>"
      ],
      "text/plain": [
       "                    Liter  Cadillac      SAAB  Cylinder  Hardtop Conv 2D  \\\n",
       "Liter            1.000000  0.406216  0.326754  0.957897         0.158726   \n",
       "Cadillac         0.406216  1.000000  0.135115  0.534896         0.337609   \n",
       "SAAB             0.326754  0.135115  1.000000  0.371877         0.045616   \n",
       "Cylinder         0.957897  0.534896  0.371877  1.000000         0.221052   \n",
       "Hardtop Conv 2D  0.158726  0.337609  0.045616  0.221052         1.000000   \n",
       "XLR-V8           0.158726  0.337609  0.045616  0.221052         1.000000   \n",
       "Mileage          0.018641  0.037472  0.056182  0.029461         0.014597   \n",
       "Pontiac          0.113863  0.159196  0.194664  0.114436         0.053746   \n",
       "Doors            0.079259  0.087104  0.025680  0.002206         0.201742   \n",
       "Convertible      0.065886  0.086456  0.338253  0.061533         0.435803   \n",
       "\n",
       "                   XLR-V8   Mileage   Pontiac     Doors  Convertible  \n",
       "Liter            0.158726  0.018641  0.113863  0.079259     0.065886  \n",
       "Cadillac         0.337609  0.037472  0.159196  0.087104     0.086456  \n",
       "SAAB             0.045616  0.056182  0.194664  0.025680     0.338253  \n",
       "Cylinder         0.221052  0.029461  0.114436  0.002206     0.061533  \n",
       "Hardtop Conv 2D  1.000000  0.014597  0.053746  0.201742     0.435803  \n",
       "XLR-V8           1.000000  0.014597  0.053746  0.201742     0.435803  \n",
       "Mileage          0.014597  1.000000  0.029892  0.016944     0.027436  \n",
       "Pontiac          0.053746  0.029892  1.000000  0.040943     0.123326  \n",
       "Doors            0.201742  0.016944  0.040943  1.000000     0.462921  \n",
       "Convertible      0.435803  0.027436  0.123326  0.462921     1.000000  "
      ]
     },
     "execution_count": 75,
     "metadata": {},
     "output_type": "execute_result"
    }
   ],
   "source": [
    "cor=abs(pd.DataFrame(df1[['Liter','Cadillac','SAAB',\n",
    "            'Cylinder','Hardtop Conv 2D','XLR-V8','Mileage','Pontiac','Doors','Convertible']].corr()))\n",
    "cor"
   ]
  },
  {
   "cell_type": "markdown",
   "metadata": {},
   "source": [
    "Удалим признак 'Cylinder', так как его корреляция с признаком 'Liter' равна 0,95, что говорит о линейной зависимости признаков."
   ]
  },
  {
   "cell_type": "code",
   "execution_count": 76,
   "metadata": {
    "collapsed": false
   },
   "outputs": [],
   "source": [
    "X_train=X_train[['Liter','Cadillac','SAAB','Hardtop Conv 2D','XLR-V8','Mileage','Pontiac','Convertible','Doors']]\n",
    "X_test=X_test[['Liter','Cadillac','SAAB','Hardtop Conv 2D','XLR-V8','Mileage','Pontiac','Convertible','Doors']]\n",
    "X=pd.concat([X_train,X_test])\n",
    "y=pd.concat([y_train,y_test])"
   ]
  },
  {
   "cell_type": "markdown",
   "metadata": {},
   "source": [
    "Построим 3 модели: линейную регрессию, дерево решений и Random Forest"
   ]
  },
  {
   "cell_type": "code",
   "execution_count": 77,
   "metadata": {
    "collapsed": false
   },
   "outputs": [
    {
     "data": {
      "text/plain": [
       "LinearRegression(copy_X=True, fit_intercept=True, n_jobs=1, normalize=False)"
      ]
     },
     "execution_count": 77,
     "metadata": {},
     "output_type": "execute_result"
    }
   ],
   "source": [
    "from sklearn.metrics import r2_score\n",
    "from sklearn.linear_model import LinearRegression\n",
    "LR=LinearRegression()\n",
    "LR.fit(X_train,y_train)"
   ]
  },
  {
   "cell_type": "code",
   "execution_count": 78,
   "metadata": {
    "collapsed": false
   },
   "outputs": [
    {
     "data": {
      "text/plain": [
       "0.93620695902594486"
      ]
     },
     "execution_count": 78,
     "metadata": {},
     "output_type": "execute_result"
    }
   ],
   "source": [
    "r2_score(y_test,LR.predict(X_test))"
   ]
  },
  {
   "cell_type": "markdown",
   "metadata": {},
   "source": [
    "Близкий к единице $R^2$ говорит о сильной линейной зависимости между компонентами, такая модель достаточно хорошо предсказывает цену автомобиля "
   ]
  },
  {
   "cell_type": "markdown",
   "metadata": {},
   "source": [
    "Теперь построим дерево решений. Настроим оптимальную глубину дерева с помощью сравнения параметров $R^2$ для разных параметров от 1 до 50"
   ]
  },
  {
   "cell_type": "code",
   "execution_count": 82,
   "metadata": {
    "collapsed": false
   },
   "outputs": [],
   "source": [
    "test_MSE={}\n",
    "from sklearn import tree\n",
    "for i in range(50):\n",
    "    regr = tree.DecisionTreeRegressor(max_depth=i+1)\n",
    "    regr.fit(X_train, y_train)\n",
    "    test_MSE[i+1]=(r2_score(y_test, regr.predict(X_test)))"
   ]
  },
  {
   "cell_type": "code",
   "execution_count": 83,
   "metadata": {
    "collapsed": false
   },
   "outputs": [
    {
     "data": {
      "image/png": "[encoded data removed]",
      "text/plain": [
       "<matplotlib.figure.Figure at 0x841d970>"
      ]
     },
     "metadata": {},
     "output_type": "display_data"
    }
   ],
   "source": [
    "plt.figure()\n",
    "x = [j for j in range(1,51)]\n",
    "y1 = list(test_MSE.values())\n",
    "plt.plot(x, y1, color='g')\n",
    "plt.show()"
   ]
  },
  {
   "cell_type": "code",
   "execution_count": 86,
   "metadata": {
    "collapsed": false
   },
   "outputs": [
    {
     "name": "stdout",
     "output_type": "stream",
     "text": [
      "7\n",
      "0.953605187029\n"
     ]
    }
   ],
   "source": [
    "a=max(test_MSE, key=test_MSE.get)\n",
    "print(a)\n",
    "print(test_MSE[a])"
   ]
  },
  {
   "cell_type": "markdown",
   "metadata": {},
   "source": [
    "Оптимальной оказалась глубина дерева, равная 7, она даёт показатель $R^2$, равный 0.95, что выше, чем при линейной регрессии"
   ]
  },
  {
   "cell_type": "markdown",
   "metadata": {},
   "source": [
    "Теперь используем алгоритм Random Forest. Оптимальное количество деревьев определим оценкой $R^2$ для каждого значения на кросс-валидации."
   ]
  },
  {
   "cell_type": "code",
   "execution_count": 87,
   "metadata": {
    "collapsed": false
   },
   "outputs": [],
   "source": [
    "from sklearn.metrics import r2_score\n",
    "from sklearn.cross_validation import KFold, cross_val_score\n",
    "\n",
    "cr_val=KFold(X.shape[0], shuffle=True)\n",
    "result={}\n",
    "for i in range(1,50):\n",
    "    RFR=RandomForestRegressor(n_estimators=i, random_state=1)\n",
    "    res=cross_val_score(RFR, X, y, cv=cr_val, scoring ='r2').mean()\n",
    "    result[i]=res"
   ]
  },
  {
   "cell_type": "code",
   "execution_count": 88,
   "metadata": {
    "collapsed": false,
    "scrolled": true
   },
   "outputs": [
    {
     "data": {
      "image/png": "[encoded data removed]",
      "text/plain": [
       "<matplotlib.figure.Figure at 0x8343cd0>"
      ]
     },
     "metadata": {},
     "output_type": "display_data"
    }
   ],
   "source": [
    "plt.figure()\n",
    "x = [j for j in range(1,50)]\n",
    "y3 = list(result.values())\n",
    "plt.plot(x, y3, color='g')\n",
    "plt.show()"
   ]
  },
  {
   "cell_type": "code",
   "execution_count": 89,
   "metadata": {
    "collapsed": false
   },
   "outputs": [
    {
     "name": "stdout",
     "output_type": "stream",
     "text": [
      "45\n",
      "0.959458600941\n"
     ]
    }
   ],
   "source": [
    "b=max(result, key=result.get)\n",
    "print(b)\n",
    "print(result[b])"
   ]
  },
  {
   "cell_type": "markdown",
   "metadata": {},
   "source": [
    "Оптимальным количеством дервьев оказалось 45. Эта модель показала наибольшее значение $R^2$, поэтому ее можно считать наилучшей для предсказания данных."
   ]
  },
  {
   "cell_type": "markdown",
   "metadata": {},
   "source": [
    "Итак, для построения модели были использованы признаки: объем двигателя; пробег; количество дверей; бинарные переменные - есть ли у автомобиля откидной верх; является ли производитель Cadillac, SAAB и Pontiac; является ли модель XLR-V8; является ли тим модели Hardtop Conv 2D. Все 3 модели показали хорошую предсказательную силу, но наилучшей оказался Random Forest с 45 деревьями."
   ]
  },
  {
   "cell_type": "code",
   "execution_count": null,
   "metadata": {
    "collapsed": true
   },
   "outputs": [],
   "source": []
  }
 ],
 "metadata": {
  "kernelspec": {
   "display_name": "Python 3",
   "language": "python",
   "name": "python3"
  },
  "language_info": {
   "codemirror_mode": {
    "name": "ipython",
    "version": 3
   },
   "file_extension": ".py",
   "mimetype": "text/x-python",
   "name": "python",
   "nbconvert_exporter": "python",
   "pygments_lexer": "ipython3",
   "version": "3.5.1"
  }
 },
 "nbformat": 4,
 "nbformat_minor": 0
}
